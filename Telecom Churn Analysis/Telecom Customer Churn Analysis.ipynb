{
 "cells": [
  {
   "cell_type": "code",
   "execution_count": null,
   "id": "ab4c7a87-c34f-43d1-92cc-304e73755b14",
   "metadata": {},
   "outputs": [],
   "source": [
    "#Import libraries\n",
    "import pandas as pd\n",
    "import matplotlib.pyplot as plt\n",
    "import seaborn as sns\n",
    "\n",
    "# Load the dataset \n",
    "\n",
    "df = pd.read_csv(\"..\\Telecom Churn Analysis\\Telco Customer Records.csv\")\n",
    "\n",
    "# Display first few rows of the data\n",
    "print(\"first few rows:\")\n",
    "print(df.head())\n",
    "\n",
    "# describe the objects in the data\n",
    "df. info()\n",
    "\n",
    "# Check for the total rows and columns\n",
    "print(\"total rows and columns:\")\n",
    "df.shape\n"
   ]
  },
  {
   "cell_type": "code",
   "execution_count": null,
   "id": "00dfdae2-d6a9-4b0e-b977-ac200c8a02c3",
   "metadata": {},
   "outputs": [],
   "source": [
    "#Check for missing values before cleaning\n",
    "print(\"Missing values in columns:\")\n",
    "print(df.isnull().sum())\n",
    "\n",
    "#Check for duplicates \n",
    "print(\"Total number of duplicates:\")\n",
    "print(df.duplicated().sum())\n"
   ]
  },
  {
   "cell_type": "code",
   "execution_count": null,
   "id": "f18269c5-f8ec-402f-b2f8-f5fb3d63367e",
   "metadata": {},
   "outputs": [],
   "source": [
    "#Data formatting \n",
    "\n",
    "#Change total charges to numeric\n",
    "df['TotalCharges'] = pd.to_numeric(df['TotalCharges'], errors='coerce')\n",
    "\n",
    "# Map SeniorCitizen from 0/1 to No/Yes\n",
    "df['SeniorCitizen'] = df['SeniorCitizen'].map({0: 'No', 1: 'Yes'})\n",
    "\n",
    "# Replace 'No internet service' with 'No internet' in InternetService\n",
    "df['InternetService'] = df['InternetService'].replace('No internet service', 'No internet')\n",
    "\n",
    "# Rename 'Month-to-month' contract to 'Monthly'\n",
    "df['Contract'] = df['Contract'].replace('Month-to-month', 'Monthly')\n",
    "\n",
    "# Check for missing values after data formatting\n",
    "print(\"Missing values in columns:\")\n",
    "print(df.isnull().sum())\n"
   ]
  },
  {
   "cell_type": "code",
   "execution_count": null,
   "id": "33305659-4c63-4e43-9b88-af69bb9f1899",
   "metadata": {},
   "outputs": [],
   "source": [
    "# Removing duplicates\n",
    "df.drop_duplicates()\n",
    "\n",
    "# Fill missing TotalCharges with 0 if tenure == 0 (customers basically no usage yet)\n",
    "df.loc[(df['TotalCharges'].isna()) & (df['tenure'] == 0), 'TotalCharges'] = 0\n",
    "\n",
    "print(\"Missing values in Total Charges:\")\n",
    "print(df['TotalCharges'].isnull().sum())\n"
   ]
  },
  {
   "cell_type": "code",
   "execution_count": null,
   "id": "0f3a5cce-91c1-4664-94f3-0eab6a3d031d",
   "metadata": {},
   "outputs": [],
   "source": [
    "# check cleaned data shape\n",
    "print('total rows and columns: ')\n",
    "print(df.shape)\n",
    "\n",
    "#save cleaned data for analysis \n",
    "\n",
    "df.to_csv('cleaned telco customer record.csv', index = False)"
   ]
  },
  {
   "cell_type": "code",
   "execution_count": null,
   "id": "bf5be6a2-1fe8-42d5-a163-ff21831d5c15",
   "metadata": {},
   "outputs": [],
   "source": [
    "# Count churn values\n",
    "churn_counts = df['Churn'].value_counts()\n",
    "\n",
    "# Pie chart\n",
    "plt.figure(figsize=(5,5))\n",
    "plt.pie(\n",
    "    churn_counts, \n",
    "    labels=churn_counts.index, \n",
    "    autopct=lambda p: f'{p:.0f}%',  # No decimals\n",
    "    startangle=90, \n",
    "    colors=['skyblue', 'orange']\n",
    ")\n",
    "plt.title(\"Overall Churn Rate\")\n",
    "plt.show()\n"
   ]
  },
  {
   "cell_type": "code",
   "execution_count": null,
   "id": "6e838da0-3aab-485c-864e-3d33e7dfb6fe",
   "metadata": {},
   "outputs": [],
   "source": [
    "plt.figure(figsize=(8,6))\n",
    "sns.countplot(x='Contract', hue='Churn', data=df)\n",
    "plt.title('Number of Customers by Contract Type and Churn Status')\n",
    "plt.ylabel('Number of Customers')\n",
    "plt.show()\n"
   ]
  },
  {
   "cell_type": "code",
   "execution_count": null,
   "id": "cfd8ecbf-e889-45df-af49-a34573b8e98f",
   "metadata": {},
   "outputs": [],
   "source": [
    "# Bar chart for churned customers by payment method\n",
    "plt.figure(figsize=(10,6))\n",
    "churned = df[df['Churn'] == 'Yes']\n",
    "payment_counts = churned['PaymentMethod'].value_counts()\n",
    "payment_counts.plot(kind='bar')\n",
    "plt.title('Churned Customers by Payment Method')\n",
    "plt.ylabel('Number of Customers')\n",
    "plt.xticks(rotation=0)\n",
    "plt.show()"
   ]
  },
  {
   "cell_type": "code",
   "execution_count": null,
   "id": "a5937788",
   "metadata": {},
   "outputs": [],
   "source": [
    "## Bar chart for churn rate by internet service\n",
    "internet_rate = churned['InternetService'].value_counts() / df['InternetService'].value_counts()\n",
    "\n",
    "plt.figure(figsize=(8,6))\n",
    "internet_rate.plot(kind='bar')\n",
    "plt.title('Churn Rate by Internet Service Type')\n",
    "plt.ylabel('Churn Rate')\n",
    "plt.xticks(rotation=0)\n",
    "plt.show()\n"
   ]
  },
  {
   "cell_type": "code",
   "execution_count": null,
   "id": "1f5375d5",
   "metadata": {},
   "outputs": [],
   "source": [
    "# Group by tenure group and churn\n",
    "# Create tenure groups (bins)\n",
    "bins = [0, 12, 24, 36, 48, 60, 72]\n",
    "labels = ['0-12', '13-24', '25-36', '37-48', '49-60', '61-72']\n",
    "df['Tenure(group)'] = pd.cut(df['tenure'], bins=bins, labels=labels, right=True)\n",
    "\n",
    "# Count customers in each tenure group by churn status\n",
    "tenure_counts = df.groupby(['Tenure(group)', 'Churn']).size().unstack(fill_value=0)\n",
    "\n",
    "plt.figure(figsize=(12,6))\n",
    "tenure_counts.plot(kind='bar')\n",
    "plt.title('Customer Tenure Distribution by Churn Status')\n",
    "plt.ylabel('Number of Customers')\n",
    "plt.xticks(rotation=0)\n",
    "plt.show()\n"
   ]
  },
  {
   "cell_type": "code",
   "execution_count": null,
   "id": "471ed28b",
   "metadata": {},
   "outputs": [],
   "source": [
    "# Group revenue by churn status\n",
    "revenue_by_churn = df.groupby('Churn')['TotalCharges'].sum()\n",
    "\n",
    "# Pie chart\n",
    "plt.pie(\n",
    "    revenue_by_churn,\n",
    "    autopct=lambda p: f\"{int(p*revenue_by_churn.sum()/100):,}\\n({p:.0f}%)\",\n",
    "    startangle=90\n",
    ")\n",
    "\n",
    "# Move legend outside\n",
    "plt.legend(\n",
    "    revenue_by_churn.index, \n",
    "    title=\"Churn Status\", \n",
    "    loc=\"center left\", \n",
    "    bbox_to_anchor=(1, 0, 0.5, 1)\n",
    ")\n",
    "\n",
    "plt.title('Revenue by Churn Status')\n",
    "plt.show()\n",
    "\n",
    "\n"
   ]
  },
  {
   "cell_type": "code",
   "execution_count": null,
   "id": "b1c54106",
   "metadata": {},
   "outputs": [],
   "source": [
    "import pandas as pd\n",
    "from scipy.stats import chi2_contingency\n",
    "import numpy as np\n",
    "\n",
    "# Convert Churn to numeric for correlation\n",
    "df['Churn_num'] = df['Churn'].map({'Yes': 1, 'No': 0})\n",
    "\n",
    "# 1. Numeric correlation\n",
    "print(\"Numeric correlation with churn:\")\n",
    "print(df.corr(numeric_only=True)['Churn_num'].sort_values(ascending=False).round(2))\n",
    "\n",
    "# 2. Cramer's V for categorical correlation\n",
    "def cramers_v(x, y):\n",
    "    table = pd.crosstab(x, y)\n",
    "    chi2 = chi2_contingency(table)[0]\n",
    "    n = table.sum().sum()\n",
    "    return np.sqrt((chi2 / n) / (min(table.shape)-1))\n",
    "\n",
    "print(\"\\nCategorical correlation with churn:\")\n",
    "for col in df.select_dtypes(include='object').columns:\n",
    "    if col != 'Churn':\n",
    "        print(f\"{col}: {cramers_v(df[col], df['Churn']):.2f}\")\n"
   ]
  },
  {
   "cell_type": "code",
   "execution_count": null,
   "id": "cf7c5366",
   "metadata": {},
   "outputs": [],
   "source": []
  }
 ],
 "metadata": {
  "kernelspec": {
   "display_name": "Python 3",
   "language": "python",
   "name": "python3"
  },
  "language_info": {
   "codemirror_mode": {
    "name": "ipython",
    "version": 3
   },
   "file_extension": ".py",
   "mimetype": "text/x-python",
   "name": "python",
   "nbconvert_exporter": "python",
   "pygments_lexer": "ipython3",
   "version": "3.13.3"
  }
 },
 "nbformat": 4,
 "nbformat_minor": 5
}
